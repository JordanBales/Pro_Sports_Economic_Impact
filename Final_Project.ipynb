{
 "cells": [
  {
   "cell_type": "markdown",
   "metadata": {},
   "source": [
    "* Necessary Libraries"
   ]
  },
  {
   "cell_type": "code",
   "execution_count": 15,
   "metadata": {},
   "outputs": [],
   "source": [
    "import os\n",
    "import pandas as pd\n",
    "import numpy as np\n",
    "from math import sqrt\n",
    "\n",
    "from pyspark.sql import SparkSession\n",
    "spark = SparkSession.builder.getOrCreate()\n"
   ]
  },
  {
   "cell_type": "markdown",
   "metadata": {},
   "source": [
    "Read in data "
   ]
  },
  {
   "cell_type": "code",
   "execution_count": 16,
   "metadata": {},
   "outputs": [],
   "source": [
    "# read text file into pyspark dataframe\n",
    "#df = spark.read.csv(\"ds5559/FinalProject/ComboCities.csv\",  inferSchema=True, header = True)\n",
    "df = pd.read_csv(\"ds5559/FinalProject/ComboCities.csv\")"
   ]
  },
  {
   "cell_type": "code",
   "execution_count": 17,
   "metadata": {},
   "outputs": [
    {
     "data": {
      "text/html": [
       "<div>\n",
       "<style scoped>\n",
       "    .dataframe tbody tr th:only-of-type {\n",
       "        vertical-align: middle;\n",
       "    }\n",
       "\n",
       "    .dataframe tbody tr th {\n",
       "        vertical-align: top;\n",
       "    }\n",
       "\n",
       "    .dataframe thead th {\n",
       "        text-align: right;\n",
       "    }\n",
       "</style>\n",
       "<table border=\"1\" class=\"dataframe\">\n",
       "  <thead>\n",
       "    <tr style=\"text-align: right;\">\n",
       "      <th></th>\n",
       "      <th>City</th>\n",
       "      <th>All industry total (in thousands)</th>\n",
       "      <th>Private industries</th>\n",
       "      <th>Agriculture, forestry, fishing and hunting</th>\n",
       "      <th>Mining, quarrying, and oil and gas extraction</th>\n",
       "      <th>Utilities</th>\n",
       "      <th>Construction</th>\n",
       "      <th>Manufacturing</th>\n",
       "      <th>Durable goods manufacturing</th>\n",
       "      <th>Nondurable goods manufacturing</th>\n",
       "      <th>...</th>\n",
       "      <th>NFL Team relocated</th>\n",
       "      <th>NBA Team Numbers</th>\n",
       "      <th>NBA Team Value</th>\n",
       "      <th>NBA Team Revenue</th>\n",
       "      <th>Large Market</th>\n",
       "      <th>Medium Market</th>\n",
       "      <th>Small Market</th>\n",
       "      <th>No Teams</th>\n",
       "      <th>Year</th>\n",
       "      <th>index</th>\n",
       "    </tr>\n",
       "  </thead>\n",
       "  <tbody>\n",
       "    <tr>\n",
       "      <th>0</th>\n",
       "      <td>Atlanta</td>\n",
       "      <td>209741698.0</td>\n",
       "      <td>191749470.0</td>\n",
       "      <td>366262.00</td>\n",
       "      <td>331505.00</td>\n",
       "      <td>2100718.00</td>\n",
       "      <td>(D)</td>\n",
       "      <td>(D)</td>\n",
       "      <td>(D)</td>\n",
       "      <td>(D)</td>\n",
       "      <td>...</td>\n",
       "      <td>0.0</td>\n",
       "      <td>1.0</td>\n",
       "      <td>199000.0</td>\n",
       "      <td>76000.0</td>\n",
       "      <td>1.0</td>\n",
       "      <td>0.0</td>\n",
       "      <td>0.0</td>\n",
       "      <td>0.0</td>\n",
       "      <td>2001.0</td>\n",
       "      <td>1.0</td>\n",
       "    </tr>\n",
       "    <tr>\n",
       "      <th>1</th>\n",
       "      <td>Austin</td>\n",
       "      <td>55307638.0</td>\n",
       "      <td>47708348.0</td>\n",
       "      <td>21993.00</td>\n",
       "      <td>205947.00</td>\n",
       "      <td>381802.00</td>\n",
       "      <td>4324915.00</td>\n",
       "      <td>7829516.00</td>\n",
       "      <td>(D)</td>\n",
       "      <td>(D)</td>\n",
       "      <td>...</td>\n",
       "      <td>0.0</td>\n",
       "      <td>0.0</td>\n",
       "      <td>0.0</td>\n",
       "      <td>0.0</td>\n",
       "      <td>0.0</td>\n",
       "      <td>0.0</td>\n",
       "      <td>0.0</td>\n",
       "      <td>1.0</td>\n",
       "      <td>2001.0</td>\n",
       "      <td>2.0</td>\n",
       "    </tr>\n",
       "    <tr>\n",
       "      <th>2</th>\n",
       "      <td>Boise</td>\n",
       "      <td>16435618.0</td>\n",
       "      <td>14448912.0</td>\n",
       "      <td>(D)</td>\n",
       "      <td>13511.00</td>\n",
       "      <td>57379.00</td>\n",
       "      <td>1174578.00</td>\n",
       "      <td>3196453.00</td>\n",
       "      <td>(D)</td>\n",
       "      <td>(D)</td>\n",
       "      <td>...</td>\n",
       "      <td>0.0</td>\n",
       "      <td>0.0</td>\n",
       "      <td>0.0</td>\n",
       "      <td>0.0</td>\n",
       "      <td>0.0</td>\n",
       "      <td>0.0</td>\n",
       "      <td>0.0</td>\n",
       "      <td>1.0</td>\n",
       "      <td>2001.0</td>\n",
       "      <td>3.0</td>\n",
       "    </tr>\n",
       "    <tr>\n",
       "      <th>3</th>\n",
       "      <td>Boston</td>\n",
       "      <td>236051306.0</td>\n",
       "      <td>213403308.0</td>\n",
       "      <td>(D)</td>\n",
       "      <td>87120.00</td>\n",
       "      <td>2666446.00</td>\n",
       "      <td>9560212.00</td>\n",
       "      <td>26949729.00</td>\n",
       "      <td>(D)</td>\n",
       "      <td>(D)</td>\n",
       "      <td>...</td>\n",
       "      <td>0.0</td>\n",
       "      <td>1.0</td>\n",
       "      <td>218000.0</td>\n",
       "      <td>81000.0</td>\n",
       "      <td>0.0</td>\n",
       "      <td>1.0</td>\n",
       "      <td>0.0</td>\n",
       "      <td>0.0</td>\n",
       "      <td>2001.0</td>\n",
       "      <td>4.0</td>\n",
       "    </tr>\n",
       "    <tr>\n",
       "      <th>4</th>\n",
       "      <td>Charlotte</td>\n",
       "      <td>76027214.0</td>\n",
       "      <td>69766921.0</td>\n",
       "      <td>(D)</td>\n",
       "      <td>105937.00</td>\n",
       "      <td>1805777.00</td>\n",
       "      <td>3895799.00</td>\n",
       "      <td>14555666.00</td>\n",
       "      <td>(D)</td>\n",
       "      <td>(D)</td>\n",
       "      <td>...</td>\n",
       "      <td>0.0</td>\n",
       "      <td>1.0</td>\n",
       "      <td>135000.0</td>\n",
       "      <td>65000.0</td>\n",
       "      <td>0.0</td>\n",
       "      <td>0.0</td>\n",
       "      <td>1.0</td>\n",
       "      <td>0.0</td>\n",
       "      <td>2001.0</td>\n",
       "      <td>5.0</td>\n",
       "    </tr>\n",
       "  </tbody>\n",
       "</table>\n",
       "<p>5 rows × 95 columns</p>\n",
       "</div>"
      ],
      "text/plain": [
       "        City  All industry total (in thousands)    Private industries  \\\n",
       "0    Atlanta                        209741698.0           191749470.0   \n",
       "1     Austin                         55307638.0            47708348.0   \n",
       "2      Boise                         16435618.0            14448912.0   \n",
       "3     Boston                        236051306.0           213403308.0   \n",
       "4  Charlotte                         76027214.0            69766921.0   \n",
       "\n",
       "      Agriculture, forestry, fishing and hunting  \\\n",
       "0                                      366262.00   \n",
       "1                                       21993.00   \n",
       "2                                            (D)   \n",
       "3                                            (D)   \n",
       "4                                            (D)   \n",
       "\n",
       "      Mining, quarrying, and oil and gas extraction     Utilities  \\\n",
       "0                                         331505.00    2100718.00   \n",
       "1                                         205947.00     381802.00   \n",
       "2                                          13511.00      57379.00   \n",
       "3                                          87120.00    2666446.00   \n",
       "4                                         105937.00    1805777.00   \n",
       "\n",
       "      Construction     Manufacturing       Durable goods manufacturing  \\\n",
       "0              (D)               (D)                               (D)   \n",
       "1       4324915.00        7829516.00                               (D)   \n",
       "2       1174578.00        3196453.00                               (D)   \n",
       "3       9560212.00       26949729.00                               (D)   \n",
       "4       3895799.00       14555666.00                               (D)   \n",
       "\n",
       "        Nondurable goods manufacturing  ... NFL Team relocated  \\\n",
       "0                                  (D)  ...                0.0   \n",
       "1                                  (D)  ...                0.0   \n",
       "2                                  (D)  ...                0.0   \n",
       "3                                  (D)  ...                0.0   \n",
       "4                                  (D)  ...                0.0   \n",
       "\n",
       "  NBA Team Numbers NBA Team Value NBA Team Revenue  Large Market  \\\n",
       "0              1.0       199000.0          76000.0           1.0   \n",
       "1              0.0            0.0              0.0           0.0   \n",
       "2              0.0            0.0              0.0           0.0   \n",
       "3              1.0       218000.0          81000.0           0.0   \n",
       "4              1.0       135000.0          65000.0           0.0   \n",
       "\n",
       "  Medium Market Small Market No Teams    Year index  \n",
       "0           0.0          0.0      0.0  2001.0   1.0  \n",
       "1           0.0          0.0      1.0  2001.0   2.0  \n",
       "2           0.0          0.0      1.0  2001.0   3.0  \n",
       "3           1.0          0.0      0.0  2001.0   4.0  \n",
       "4           0.0          1.0      0.0  2001.0   5.0  \n",
       "\n",
       "[5 rows x 95 columns]"
      ]
     },
     "execution_count": 17,
     "metadata": {},
     "output_type": "execute_result"
    }
   ],
   "source": [
    "df.head()"
   ]
  },
  {
   "cell_type": "markdown",
   "metadata": {},
   "source": [
    "Initial review of data"
   ]
  },
  {
   "cell_type": "code",
   "execution_count": 18,
   "metadata": {},
   "outputs": [
    {
     "data": {
      "text/plain": [
       "432"
      ]
     },
     "execution_count": 18,
     "metadata": {},
     "output_type": "execute_result"
    }
   ],
   "source": [
    "len(df)"
   ]
  },
  {
   "cell_type": "code",
   "execution_count": 19,
   "metadata": {},
   "outputs": [
    {
     "data": {
      "text/plain": [
       "95"
      ]
     },
     "execution_count": 19,
     "metadata": {},
     "output_type": "execute_result"
    }
   ],
   "source": [
    "len(df.columns)"
   ]
  },
  {
   "cell_type": "code",
   "execution_count": 20,
   "metadata": {},
   "outputs": [
    {
     "data": {
      "text/plain": [
       "City                                                  object\n",
       "All industry total (in thousands)                    float64\n",
       "  Private industries                                 float64\n",
       "    Agriculture, forestry, fishing and hunting        object\n",
       "    Mining, quarrying, and oil and gas extraction     object\n",
       "                                                      ...   \n",
       "Medium Market                                        float64\n",
       "Small Market                                         float64\n",
       "No Teams                                             float64\n",
       "Year                                                 float64\n",
       "index                                                float64\n",
       "Length: 95, dtype: object"
      ]
     },
     "execution_count": 20,
     "metadata": {},
     "output_type": "execute_result"
    }
   ],
   "source": [
    "df.dtypes"
   ]
  },
  {
   "cell_type": "code",
   "execution_count": 21,
   "metadata": {},
   "outputs": [
    {
     "data": {
      "text/plain": [
       "Index(['City', 'All industry total (in thousands)', '  Private industries',\n",
       "       '    Agriculture, forestry, fishing and hunting',\n",
       "       '    Mining, quarrying, and oil and gas extraction', '    Utilities',\n",
       "       '    Construction', '    Manufacturing',\n",
       "       '      Durable goods manufacturing',\n",
       "       '      Nondurable goods manufacturing', '    Wholesale trade',\n",
       "       '    Retail trade', '    Transportation and warehousing',\n",
       "       '    Information',\n",
       "       '    Finance, insurance, real estate, rental, and leasing',\n",
       "       '      Finance and insurance',\n",
       "       '      Real estate and rental and leasing',\n",
       "       '    Professional and business services',\n",
       "       '      Professional, scientific, and technical services',\n",
       "       '      Management of companies and enterprises',\n",
       "       '      Administrative and support and waste management and remediation services',\n",
       "       '    Educational services, health care, and social assistance',\n",
       "       '      Educational services', '      Health care and social assistance',\n",
       "       '    Arts, entertainment, recreation, accommodation, and food services',\n",
       "       '      Arts, entertainment, and recreation',\n",
       "       '      Accommodation and food services',\n",
       "       '    Other services (except government and government enterprises)',\n",
       "       'Government and government enterprises', 'Addenda:',\n",
       "       'Natural resources and mining', 'Trade', 'Transportation and utilities',\n",
       "       'Manufacturing and information',\n",
       "       'Private goods-producing industries 2/',\n",
       "       'Private services-providing industries 3/',\n",
       "       'Personal income (thousands of dollars)',\n",
       "       'Derivation of personal income', '  Net earnings by place of residence',\n",
       "       '  Personal current transfer receipts',\n",
       "       '    Income maintenance benefits 1/',\n",
       "       '    Unemployment insurance compensation', '    Retirement and other',\n",
       "       '  Dividends, interest, and rent 2/', '  Population (persons) 3/',\n",
       "       'Per capita incomes (dollars)', '  Per capita personal income 4/',\n",
       "       '  Per capita net earnings 4/',\n",
       "       '  Per capita personal current transfer receipts 4/',\n",
       "       '    Per capita income maintenance benefits 4/',\n",
       "       '    Per capita unemployment insurance compensation 4/',\n",
       "       '    Per capita retirement and other 4/',\n",
       "       '  Per capita dividends, interest, and rent 4/',\n",
       "       'Place of work profile (thousands of dollars)',\n",
       "       '  Earnings by place of work', '    Wages and salaries',\n",
       "       '    Supplements to wages and salaries',\n",
       "       '      Employer contributions for employee pension and insurance funds 5/',\n",
       "       '      Employer contributions for government social insurance',\n",
       "       '    Proprietors' income', '      Farm proprietors' income',\n",
       "       '      Nonfarm proprietors' income',\n",
       "       'Total employment (number of jobs)', '  Wage and salary employment',\n",
       "       '  Proprietors employment', '    Farm proprietors employment 6/',\n",
       "       '    Nonfarm proprietors employment',\n",
       "       'Average earnings per job (dollars)', '  Average wages and salaries',\n",
       "       '  Average nonfarm proprietors' income', 'Total MLB Teams',\n",
       "       'Total MLB Team Value (dollars thousands)',\n",
       "       'Total team revenue (dollars thousands)', 'Home Games MLB',\n",
       "       'Reg Season wins MLB', 'Home Wins MLB', 'World Series Title',\n",
       "       'Division Title MLB', 'Attendance MLB', 'Attendace per Game MLB',\n",
       "       'Payroll MLB (dollars)', 'NFL Teams', 'NFL Team Value (Thousands',\n",
       "       'NFL Team Revenue', 'NFL Team Purchased', 'NFL Team relocated',\n",
       "       'NBA Team Numbers', 'NBA Team Value', 'NBA Team Revenue',\n",
       "       'Large Market', 'Medium Market', 'Small Market', 'No Teams', 'Year',\n",
       "       'index'],\n",
       "      dtype='object')"
      ]
     },
     "execution_count": 21,
     "metadata": {},
     "output_type": "execute_result"
    }
   ],
   "source": [
    "df.columns"
   ]
  },
  {
   "cell_type": "markdown",
   "metadata": {},
   "source": [
    "Questions to answer\n",
    "\n",
    "# 1) Does a city having a sports team affect its GDP or unemployment. Regression \n",
    "\n",
    "# 2) Does market size matter to economic impact?\n",
    "\n",
    "# 3) The year the team joins a league or when ownership changes?\n",
    "\n",
    "\n"
   ]
  }
 ],
 "metadata": {
  "kernelspec": {
   "display_name": "DS 5559",
   "language": "python",
   "name": "ds5559"
  },
  "language_info": {
   "codemirror_mode": {
    "name": "ipython",
    "version": 3
   },
   "file_extension": ".py",
   "mimetype": "text/x-python",
   "name": "python",
   "nbconvert_exporter": "python",
   "pygments_lexer": "ipython3",
   "version": "3.7.6"
  }
 },
 "nbformat": 4,
 "nbformat_minor": 4
}
